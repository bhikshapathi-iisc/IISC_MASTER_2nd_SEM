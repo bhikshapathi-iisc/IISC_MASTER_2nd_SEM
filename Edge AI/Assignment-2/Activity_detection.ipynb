{
 "cells": [
  {
   "cell_type": "markdown",
   "metadata": {},
   "source": [
    "## MODELS"
   ]
  },
  {
   "cell_type": "code",
   "execution_count": 1,
   "metadata": {},
   "outputs": [],
   "source": [
    "import pandas as pd\n",
    "import numpy as np\n",
    "import matplotlib.pyplot as plt\n",
    "from sklearn.model_selection import train_test_split, GridSearchCV\n",
    "from sklearn.tree import DecisionTreeClassifier\n",
    "from sklearn.ensemble import RandomForestClassifier\n",
    "from sklearn.preprocessing import LabelEncoder\n",
    "from sklearn.metrics import accuracy_score\n",
    "import m2cgen as m2c\n",
    "import json"
   ]
  },
  {
   "cell_type": "markdown",
   "metadata": {},
   "source": [
    "## PREPROCESSING the Collected data"
   ]
  },
  {
   "cell_type": "code",
   "execution_count": 2,
   "metadata": {},
   "outputs": [],
   "source": [
    "def load_activity_data(filename, label):\n",
    "    df = pd.read_csv(filename)\n",
    "    df['activity'] = label\n",
    "    return df\n"
   ]
  },
  {
   "cell_type": "code",
   "execution_count": 3,
   "metadata": {},
   "outputs": [
    {
     "name": "stdout",
     "output_type": "stream",
     "text": [
      "        ax       ay       az       gx       gy       gz        mx        my  \\\n",
      "0 -0.10593  0.89525  0.06266  1.14929 -2.28821  4.67102  19.89038  38.00574   \n",
      "1 -0.11290  0.91129  0.05403  0.69885 -2.05200  3.46191  20.53369  38.03967   \n",
      "2 -0.11550  0.92828  0.04339  0.70862 -2.28394  3.99353  21.20789  38.14966   \n",
      "3 -0.11410  0.93876  0.03308  1.10779 -2.21619  4.84253  21.77649  38.01025   \n",
      "4 -0.11759  0.95529  0.02174  0.82275 -2.62024  3.20801  22.42456  38.00806   \n",
      "\n",
      "         mz activity  \n",
      "0  20.12830  walking  \n",
      "1  20.27673  walking  \n",
      "2  20.37988  walking  \n",
      "3  20.45911  walking  \n",
      "4  20.51697  walking  \n"
     ]
    }
   ],
   "source": [
    "walking = load_activity_data(\"walking_bhikshapathi.csv\", \"walking\")\n",
    "walking = walking[['Ax_mean', 'Ay_mean', 'Az_mean', 'Gx_mean', 'Gy_mean', 'Gz_mean','Mx_mean', 'My_mean', 'Mz_mean', 'activity']]\n",
    "walking = walking.dropna()  \n",
    "walking.columns = ['ax', 'ay', 'az', 'gx', 'gy', 'gz','mx', 'my', 'mz', 'activity']\n",
    "print(walking.head())"
   ]
  },
  {
   "cell_type": "code",
   "execution_count": 4,
   "metadata": {},
   "outputs": [
    {
     "name": "stdout",
     "output_type": "stream",
     "text": [
      "        ax       ay       az       gx       gy       gz       mx        my  \\\n",
      "0 -0.98528  0.18769  0.13120  7.18506  1.96533  0.98816 -1.73291  55.87415   \n",
      "1 -0.99346  0.19181  0.12181  7.35168  1.64917  0.88989 -2.06897  56.03162   \n",
      "2 -1.00398  0.19399  0.11306  7.31079  1.61743  0.75317 -2.40540  56.17700   \n",
      "3 -1.01411  0.19627  0.10431  7.28577  1.65344  0.84595 -2.72925  56.31140   \n",
      "4 -1.02325  0.19802  0.09534  7.19543  2.31628  0.88684 -3.04773  56.46594   \n",
      "\n",
      "         mz  activity  \n",
      "0  31.45117  swinging  \n",
      "1  31.69922  swinging  \n",
      "2  31.94214  swinging  \n",
      "3  32.17883  swinging  \n",
      "4  32.47607  swinging  \n"
     ]
    }
   ],
   "source": [
    "swinging = load_activity_data(\"swinging_bhikshapathi.csv\", \"swinging\")\n",
    "swinging = swinging[['Ax_mean', 'Ay_mean', 'Az_mean', 'Gx_mean', 'Gy_mean', 'Gz_mean','Mx_mean', 'My_mean', 'Mz_mean', 'activity']]\n",
    "swinging = swinging.dropna()\n",
    "swinging.columns = ['ax', 'ay', 'az', 'gx', 'gy', 'gz','mx', 'my', 'mz', 'activity']\n",
    "print(swinging.head())"
   ]
  },
  {
   "cell_type": "code",
   "execution_count": 5,
   "metadata": {},
   "outputs": [
    {
     "name": "stdout",
     "output_type": "stream",
     "text": [
      "        ax       ay       az       gx       gy       gz        mx        my  \\\n",
      "0 -0.69261  0.63786 -0.31302 -0.78125  4.69055  5.44800 -13.74365  65.25305   \n",
      "1 -0.69386  0.63865 -0.30906 -0.65491  4.85474  5.37720 -13.70435  65.21497   \n",
      "2 -0.69538  0.63976 -0.30454 -0.50964  4.72961  5.37842 -13.65601  65.15588   \n",
      "3 -0.69693  0.64034 -0.30164 -1.00403  4.47632  4.93103 -13.62073  65.11353   \n",
      "4 -0.69671  0.64030 -0.29894 -1.20789  4.33289  4.67041 -13.59338  65.07410   \n",
      "\n",
      "         mz activity  \n",
      "0  27.71106  writing  \n",
      "1  27.82996  writing  \n",
      "2  27.95935  writing  \n",
      "3  28.08386  writing  \n",
      "4  28.17212  writing  \n"
     ]
    }
   ],
   "source": [
    "writing = load_activity_data(\"writing_bhikshapathi.csv\", \"writing\")\n",
    "writing = writing[['Ax_mean', 'Ay_mean', 'Az_mean', 'Gx_mean', 'Gy_mean', 'Gz_mean','Mx_mean', 'My_mean', 'Mz_mean', 'activity']]\n",
    "writing = writing.dropna()\n",
    "writing.columns = ['ax', 'ay', 'az', 'gx', 'gy', 'gz','mx', 'my', 'mz', 'activity']\n",
    "print(writing.head())"
   ]
  },
  {
   "cell_type": "code",
   "execution_count": 6,
   "metadata": {},
   "outputs": [
    {
     "name": "stdout",
     "output_type": "stream",
     "text": [
      "        ax       ay       az       gx       gy       gz       mx        my  \\\n",
      "0 -0.22470 -0.09584 -0.96965  3.76526  3.69751  5.68848  6.50684  23.88757   \n",
      "1 -0.22691 -0.08893 -0.96946  3.85925  3.54797  5.33813  4.99451  25.18481   \n",
      "2 -0.23192 -0.08390 -0.96964  3.66333  3.84155  5.26978  3.17737  26.60339   \n",
      "3 -0.23548 -0.07883 -0.97119  3.66394  3.88855  5.31921  1.18066  28.04663   \n",
      "4 -0.23861 -0.07403 -0.97237  3.67493  3.90869  5.29480 -1.09949  29.63806   \n",
      "\n",
      "        mz activity  \n",
      "0 -9.02136   typing  \n",
      "1 -7.12366   typing  \n",
      "2 -5.11682   typing  \n",
      "3 -3.14856   typing  \n",
      "4 -1.09924   typing  \n"
     ]
    }
   ],
   "source": [
    "typing = load_activity_data(\"typing_bhikshapathi.csv\", \"typing\")\n",
    "typing = typing[['Ax_mean', 'Ay_mean', 'Az_mean', 'Gx_mean', 'Gy_mean', 'Gz_mean','Mx_mean', 'My_mean', 'Mz_mean', 'activity']]\n",
    "typing = typing.dropna()\n",
    "typing.columns = ['ax', 'ay', 'az', 'gx', 'gy', 'gz','mx', 'my', 'mz', 'activity']\n",
    "print(typing.head())"
   ]
  },
  {
   "cell_type": "code",
   "execution_count": 7,
   "metadata": {},
   "outputs": [
    {
     "name": "stdout",
     "output_type": "stream",
     "text": [
      "        ax       ay       az       gx       gy       gz        mx        my  \\\n",
      "0 -0.02529  0.00442  0.96346  1.05591  2.73682  1.70532 -19.88586  30.24597   \n",
      "1 -0.02526  0.00444  0.96367  1.05530  2.73560  1.70593 -19.88647  30.24695   \n",
      "2 -0.02528  0.00443  0.96380  1.05347  2.73621  1.70654 -19.88879  30.24695   \n",
      "3 -0.02529  0.00442  0.96391  1.05408  2.73682  1.70776 -19.88965  30.24561   \n",
      "4 -0.02531  0.00443  0.96399  1.05530  2.73621  1.70715 -19.88770  30.24866   \n",
      "\n",
      "        mz activity  \n",
      "0  7.33740  sitting  \n",
      "1  7.31921  sitting  \n",
      "2  7.31946  sitting  \n",
      "3  7.31873  sitting  \n",
      "4  7.31238  sitting  \n"
     ]
    }
   ],
   "source": [
    "sitting = load_activity_data(\"sitting_bhikshapathi.csv\", \"sitting\")\n",
    "sitting = sitting[['Ax_mean', 'Ay_mean', 'Az_mean', 'Gx_mean', 'Gy_mean', 'Gz_mean','Mx_mean', 'My_mean', 'Mz_mean', 'activity']]\n",
    "sitting = sitting.dropna()\n",
    "sitting.columns = ['ax', 'ay', 'az', 'gx', 'gy', 'gz','mx', 'my', 'mz', 'activity']\n",
    "print(sitting.head())"
   ]
  },
  {
   "cell_type": "markdown",
   "metadata": {},
   "source": [
    "## CONCATENATE ALL THE LABELS"
   ]
  },
  {
   "cell_type": "code",
   "execution_count": 8,
   "metadata": {},
   "outputs": [
    {
     "name": "stdout",
     "output_type": "stream",
     "text": [
      "Combined Data Sample:\n",
      "        ax       ay       az       gx       gy       gz       mx        my  \\\n",
      "0 -0.98528  0.18769  0.13120  7.18506  1.96533  0.98816 -1.73291  55.87415   \n",
      "1 -0.99346  0.19181  0.12181  7.35168  1.64917  0.88989 -2.06897  56.03162   \n",
      "2 -1.00398  0.19399  0.11306  7.31079  1.61743  0.75317 -2.40540  56.17700   \n",
      "3 -1.01411  0.19627  0.10431  7.28577  1.65344  0.84595 -2.72925  56.31140   \n",
      "4 -1.02325  0.19802  0.09534  7.19543  2.31628  0.88684 -3.04773  56.46594   \n",
      "\n",
      "         mz  activity  \n",
      "0  31.45117  swinging  \n",
      "1  31.69922  swinging  \n",
      "2  31.94214  swinging  \n",
      "3  32.17883  swinging  \n",
      "4  32.47607  swinging  \n"
     ]
    }
   ],
   "source": [
    "# Combine all data into one DataFrame.\n",
    "df = pd.concat([walking,typing,writing,swinging,sitting], ignore_index=True)\n",
    "print(\"Combined Data Sample:\")\n",
    "print(swinging.head())"
   ]
  },
  {
   "cell_type": "markdown",
   "metadata": {},
   "source": [
    "## DATA VISULIZATION FOR FEATURE EXTRACTION"
   ]
  },
  {
   "cell_type": "code",
   "execution_count": 9,
   "metadata": {},
   "outputs": [
    {
     "data": {
      "image/png": "[encoded data removed]",
      "text/plain": [
       "<Figure size 640x480 with 9 Axes>"
      ]
     },
     "metadata": {},
     "output_type": "display_data"
    }
   ],
   "source": [
    "# VISUALIZE DIFFERNT DISTRIBUTIONS\n",
    "df.hist()\n",
    "plt.show()"
   ]
  },
  {
   "cell_type": "code",
   "execution_count": 10,
   "metadata": {},
   "outputs": [
    {
     "data": {
      "image/png": "[encoded data removed]",
      "text/plain": [
       "<Figure size 640x480 with 1 Axes>"
      ]
     },
     "metadata": {},
     "output_type": "display_data"
    }
   ],
   "source": [
    "plt.figure()\n",
    "for activity, group in df.groupby(\"activity\"):\n",
    "    plt.plot(group[\"ax\"].values, label=activity)\n",
    "plt.title(\"ax Feature by Activity\")\n",
    "plt.xlabel(\"Sample Index\")\n",
    "plt.ylabel(\"ax\")\n",
    "plt.legend()\n",
    "plt.show()\n"
   ]
  },
  {
   "cell_type": "markdown",
   "metadata": {},
   "source": [
    "## FEATURE EXTRACTION AND ENCODING THE LABELS"
   ]
  },
  {
   "cell_type": "code",
   "execution_count": 11,
   "metadata": {},
   "outputs": [
    {
     "name": "stdout",
     "output_type": "stream",
     "text": [
      "Encoded Activity Labels: {'sitting': np.int64(0), 'swinging': np.int64(1), 'typing': np.int64(2), 'walking': np.int64(3), 'writing': np.int64(4)}\n"
     ]
    }
   ],
   "source": [
    "# feature_cols = [col for col in df.columns if col not in [\"Seq\", \"activity\"]]\n",
    "\n",
    "feature_cols = [\"ax\", \"ay\", \"az\", \"gx\", \"gy\", \"gz\",\"mx\", \"my\", \"mz\"]\n",
    "\n",
    "X = df[feature_cols]\n",
    "y = df[\"activity\"]\n",
    "\n",
    "# Encode the activity labels as integers (this makes the exported model easier to use)\n",
    "le = LabelEncoder()\n",
    "y_encoded = le.fit_transform(y)\n",
    "print(\"Encoded Activity Labels:\", dict(zip(le.classes_, le.transform(le.classes_))))"
   ]
  },
  {
   "cell_type": "markdown",
   "metadata": {},
   "source": [
    "## SPLIT THE DATA AS TEST AND TRAIN"
   ]
  },
  {
   "cell_type": "code",
   "execution_count": 12,
   "metadata": {},
   "outputs": [],
   "source": [
    "X_train, X_test, y_train, y_test = train_test_split(X, y_encoded, test_size=0.2, random_state=42)"
   ]
  },
  {
   "cell_type": "markdown",
   "metadata": {},
   "source": [
    "## TRAIN THE DECISION TREE"
   ]
  },
  {
   "cell_type": "code",
   "execution_count": 13,
   "metadata": {},
   "outputs": [],
   "source": [
    "dt_params = {'max_depth': [None, 5, 10, 15]}\n",
    "dt_grid = GridSearchCV(DecisionTreeClassifier(random_state=42), dt_params, cv=5, scoring='accuracy')\n",
    "dt_grid.fit(X_train, y_train)\n",
    "dt_best = dt_grid.best_estimator_\n"
   ]
  },
  {
   "cell_type": "markdown",
   "metadata": {},
   "source": [
    "## TRAIN RANDOM FOREST AND HYPARAMETER TUNING"
   ]
  },
  {
   "cell_type": "code",
   "execution_count": 14,
   "metadata": {},
   "outputs": [
    {
     "name": "stdout",
     "output_type": "stream",
     "text": [
      "Random Forest Best Parameters: {'max_depth': None, 'n_estimators': 50}\n"
     ]
    }
   ],
   "source": [
    "rf_params = {'n_estimators': [50, 100], 'max_depth': [None, 5, 10, 15]}\n",
    "rf_grid = GridSearchCV(RandomForestClassifier(random_state=42), rf_params, cv=5, scoring='accuracy')\n",
    "rf_grid.fit(X_train, y_train)\n",
    "rf_best = rf_grid.best_estimator_\n",
    "print(\"Random Forest Best Parameters:\", rf_grid.best_params_)\n"
   ]
  },
  {
   "cell_type": "markdown",
   "metadata": {},
   "source": [
    "## TRAIN THE XGBOOOST"
   ]
  },
  {
   "cell_type": "code",
   "execution_count": 15,
   "metadata": {},
   "outputs": [
    {
     "name": "stdout",
     "output_type": "stream",
     "text": [
      "XGBRFClassifier Best Parameters: {'max_depth': 3, 'n_estimators': 50}\n"
     ]
    }
   ],
   "source": [
    "\n",
    "from xgboost import XGBRFClassifier\n",
    "xgb_params = {'n_estimators': [50, 100], 'max_depth': [3, 5, 7]}\n",
    "xgb_grid = GridSearchCV(XGBRFClassifier(random_state=42), xgb_params, cv=5, scoring='accuracy')\n",
    "xgb_grid.fit(X_train, y_train)\n",
    "xgb_best = xgb_grid.best_estimator_\n",
    "print(\"XGBRFClassifier Best Parameters:\", xgb_grid.best_params_)"
   ]
  },
  {
   "cell_type": "markdown",
   "metadata": {},
   "source": [
    "## FINDING THE ACCURACY AND BEST MODEL"
   ]
  },
  {
   "cell_type": "code",
   "execution_count": 16,
   "metadata": {},
   "outputs": [
    {
     "name": "stdout",
     "output_type": "stream",
     "text": [
      "Decision Tree Accuracy: 1.0000\n",
      "Random Forest Accuracy: 1.0000\n",
      "XGBRFClassifier Accuracy: 1.0000\n",
      "Selected Best Model: Decision Tree with Accuracy: 1.0\n"
     ]
    }
   ],
   "source": [
    "# Evaluate Models on the test set.\n",
    "# You can add additional models to the dictionary.\n",
    "models = {\n",
    "    \"Decision Tree\": dt_best,\n",
    "    \"Random Forest\": rf_best,\n",
    "    \"XGBRFClassifier\": xgb_best\n",
    "}\n",
    " # Add additional models as needed\n",
    "for name, model in models.items():\n",
    "    y_pred = model.predict(X_test)\n",
    "    acc = accuracy_score(y_test, y_pred)\n",
    "    print(f\"{name} Accuracy: {acc:.4f}\")\n",
    "\n",
    "best_model_name, best_model = max(models.items(), key=lambda item: accuracy_score(y_test, item[1].predict(X_test)))\n",
    "best_acc = accuracy_score(y_test, best_model.predict(X_test))\n",
    "print(\"Selected Best Model:\", best_model_name, \"with Accuracy:\", best_acc)"
   ]
  },
  {
   "cell_type": "markdown",
   "metadata": {},
   "source": [
    "## IMPORT THE BEST MODEL"
   ]
  },
  {
   "cell_type": "code",
   "execution_count": null,
   "metadata": {},
   "outputs": [
    {
     "name": "stdout",
     "output_type": "stream",
     "text": [
      "Exported model saved to exported_model.py\n",
      "Label mapping saved to label_mapping.json\n"
     ]
    }
   ],
   "source": [
    "model_code = m2c.export_to_python(best_model)\n",
    "\n",
    "# Save the exported model to a file.\n",
    "with open(\"Predict.py\", \"w\") as f:\n",
    "    f.write(model_code)\n",
    "print(\"Exported model saved to exported_model.py\")\n",
    "\n",
    "# Save the label mapping (integer label to activity name) for deployment.\n",
    "label_mapping = dict(zip(range(len(le.classes_)), le.classes_))\n",
    "with open(\"label_mapping.json\", \"w\") as f:\n",
    "    json.dump(label_mapping, f)\n",
    "print(\"Label mapping saved to label_mapping.json\")\n"
   ]
  },
  {
   "cell_type": "code",
   "execution_count": null,
   "metadata": {},
   "outputs": [],
   "source": []
  }
 ],
 "metadata": {
  "kernelspec": {
   "display_name": "Python 3",
   "language": "python",
   "name": "python3"
  },
  "language_info": {
   "codemirror_mode": {
    "name": "ipython",
    "version": 3
   },
   "file_extension": ".py",
   "mimetype": "text/x-python",
   "name": "python",
   "nbconvert_exporter": "python",
   "pygments_lexer": "ipython3",
   "version": "3.12.6"
  }
 },
 "nbformat": 4,
 "nbformat_minor": 2
}
